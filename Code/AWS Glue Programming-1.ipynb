{
	"metadata": {
		"kernelspec": {
			"name": "glue_pyspark",
			"display_name": "Glue PySpark",
			"language": "python"
		},
		"language_info": {
			"name": "Python_Glue_Session",
			"mimetype": "text/x-python",
			"codemirror_mode": {
				"name": "python",
				"version": 3
			},
			"pygments_lexer": "python3",
			"file_extension": ".py"
		}
	},
	"nbformat_minor": 4,
	"nbformat": 4,
	"cells": [
		{
			"cell_type": "markdown",
			"source": "# AWS Glue Studio Notebook\n##### You are now running a AWS Glue Studio notebook; To start using your notebook you need to start an AWS Glue Interactive Session.\n",
			"metadata": {
				"editable": true,
				"trusted": true
			}
		},
		{
			"cell_type": "markdown",
			"source": "#### Optional: Run this cell to see available notebook commands (\"magics\").\n",
			"metadata": {
				"editable": true,
				"trusted": true
			}
		},
		{
			"cell_type": "code",
			"source": "%help",
			"metadata": {
				"editable": true
			},
			"execution_count": null,
			"outputs": []
		},
		{
			"cell_type": "markdown",
			"source": "####  Run this cell to set up and start your interactive session.\n",
			"metadata": {
				"editable": true,
				"tags": [],
				"trusted": true
			}
		},
		{
			"cell_type": "code",
			"source": "%idle_timeout 2880\n%glue_version 4.0\n%worker_type G.1X\n%number_of_workers 2\n\nimport sys\nfrom awsglue.transforms import *\nfrom awsglue.utils import getResolvedOptions\nfrom pyspark.context import SparkContext\nfrom awsglue.context import GlueContext\nfrom awsglue.job import Job\n  \nsc = SparkContext.getOrCreate()\nglueContext = GlueContext(sc)\nspark = glueContext.spark_session\njob = Job(glueContext)",
			"metadata": {
				"trusted": true,
				"editable": true
			},
			"execution_count": 1,
			"outputs": [
				{
					"name": "stdout",
					"text": "Welcome to the Glue Interactive Sessions Kernel\nFor more information on available magic commands, please type %help in any new cell.\n\nPlease view our Getting Started page to access the most up-to-date information on the Interactive Sessions kernel: https://docs.aws.amazon.com/glue/latest/dg/interactive-sessions.html\nInstalled kernel version: 1.0.5 \nCurrent idle_timeout is None minutes.\nidle_timeout has been set to 2880 minutes.\nSetting Glue version to: 4.0\nPrevious worker type: None\nSetting new worker type to: G.1X\nPrevious number of workers: None\nSetting new number of workers to: 2\nTrying to create a Glue session for the kernel.\nSession Type: glueetl\nWorker Type: G.1X\nNumber of Workers: 2\nIdle Timeout: 2880\nSession ID: ecbc4362-6fda-4c48-8dc9-75eff75619ef\nApplying the following default arguments:\n--glue_kernel_version 1.0.5\n--enable-glue-datacatalog true\nWaiting for session ecbc4362-6fda-4c48-8dc9-75eff75619ef to get into ready status...\nSession ecbc4362-6fda-4c48-8dc9-75eff75619ef has been created.\n\n",
					"output_type": "stream"
				}
			]
		},
		{
			"cell_type": "markdown",
			"source": "#### Example: Create a DynamicFrame from a table in the AWS Glue Data Catalog and display its schema\n",
			"metadata": {
				"editable": true,
				"tags": [],
				"trusted": true
			}
		},
		{
			"cell_type": "code",
			"source": "dyf = glueContext.create_dynamic_frame.from_catalog(database='bt-course-db-final', table_name='raw_data_2024_mm_06')\ndyf.printSchema()",
			"metadata": {
				"trusted": true,
				"editable": true
			},
			"execution_count": 2,
			"outputs": [
				{
					"name": "stdout",
					"text": "root\n|-- date: string\n|-- time: string\n|-- euipment id: string\n|-- equipment name: string\n|-- equipment type: string\n|-- attribute name: string\n|-- attribute value: long\n|-- desc: string\n",
					"output_type": "stream"
				}
			]
		},
		{
			"cell_type": "markdown",
			"source": "#### Example: Convert the DynamicFrame to a Spark DataFrame and display a sample of the data which shows the 20 rows by default.\n",
			"metadata": {
				"editable": true,
				"tags": [],
				"trusted": true
			}
		},
		{
			"cell_type": "code",
			"source": "df = dyf.toDF()\ndf.show()",
			"metadata": {
				"trusted": true,
				"tags": [],
				"editable": true
			},
			"execution_count": 21,
			"outputs": [
				{
					"name": "stdout",
					"text": "+---------+--------+-----------+--------------+---------------+--------------+---------------+--------------------+\n|     date|    time|euipment id|equipment name| equipment type|attribute name|attribute value|                desc|\n+---------+--------+-----------+--------------+---------------+--------------+---------------+--------------------+\n|1/06/2024|17:30:28|   EQU-ID-1|  server-web-1|     web-server| CPUUtlization|             10|ideal should stay...|\n|1/06/2024|17:30:28|   EQU-ID-2|  server-web-2|     web-server| CPUUtlization|             10|ideal should stay...|\n|1/06/2024|17:30:28|   EQU-ID-3|  server-wev-3|     web-server| CPUUtlization|             10|ideal should stay...|\n|1/06/2024|17:30:28|   EQU-ID-4|  server-app-1|     app-server| CPUUtlization|             10|ideal should stay...|\n|1/06/2024|17:30:28|   EQU-ID-5|  server-app-2|     app-server| CPUUtlization|             10|ideal should stay...|\n|1/06/2024|17:30:28|   EQU-ID-6|  server-app-3|     app-server| CPUUtlization|             10|ideal should stay...|\n|1/06/2024|17:30:28|   EQU-ID-7|  server-app-4|     app-server| CPUUtlization|             10|ideal should stay...|\n|1/06/2024|17:30:28|   EQU-ID-8|  server-app-5|     app-server| CPUUtlization|             10|ideal should stay...|\n|1/06/2024|17:30:28|   EQU-ID-9|  server-app-6|     app-server| CPUUtlization|             10|ideal should stay...|\n|1/06/2024|17:30:28|  EQU-ID-10|   server-DB-1|database-server| CPUUtlization|             10|ideal should stay...|\n|1/06/2024|17:30:28|  EQU-ID-10|   server-DB-1|database-server|   storageused|             10|HardDisk Size is ...|\n|1/06/2024|17:30:28|  EQU-ID-10|   server-DB-1|database-server|    memoryused|             10|                    |\n|1/06/2024|17:30:28|  EQU-ID-11|   server-DB-2|database-server| CPUUtlization|             10|                    |\n|1/06/2024|17:30:28|  EQU-ID-11|   server-DB-2|database-server|   storageused|             10|HardDisk Size is ...|\n|1/06/2024|17:30:28|  EQU-ID-11|   server-DB-2|database-server|    memoryused|             10|                    |\n|1/06/2024|17:30:28|  EQU-ID-12|   server-DB-3|database-server| CPUUtlization|             10|                    |\n|1/06/2024|17:30:28|  EQU-ID-12|   server-DB-3|database-server|   storageused|             10|HardDisk Size is ...|\n|1/06/2024|17:30:28|  EQU-ID-12|   server-DB-3|database-server|    memoryused|             10|                    |\n|1/06/2024|17:30:28|  EQU-ID-13|   Fire-sensor|            SEN|  smokeDectted|              0|0 for No and  1 f...|\n|1/06/2024|17:30:28|  EQU-ID-14|   Temp-sensor|            SEN|          temp|             10|ideal should stay...|\n+---------+--------+-----------+--------------+---------------+--------------+---------------+--------------------+\nonly showing top 20 rows\n",
					"output_type": "stream"
				}
			]
		},
		{
			"cell_type": "markdown",
			"source": "#### Example : Display full columns contents",
			"metadata": {}
		},
		{
			"cell_type": "code",
			"source": "df.show(truncate=False)",
			"metadata": {
				"trusted": true,
				"tags": []
			},
			"execution_count": 4,
			"outputs": [
				{
					"name": "stdout",
					"text": "+---------+--------+-----------+--------------+---------------+--------------+---------------+---------------------------+\n|date     |time    |euipment id|equipment name|equipment type |attribute name|attribute value|desc                       |\n+---------+--------+-----------+--------------+---------------+--------------+---------------+---------------------------+\n|1/06/2024|17:30:28|EQU-ID-1   |server-web-1  |web-server     |CPUUtlization |10             |ideal should stay below 80 |\n|1/06/2024|17:30:28|EQU-ID-2   |server-web-2  |web-server     |CPUUtlization |10             |ideal should stay below 81 |\n|1/06/2024|17:30:28|EQU-ID-3   |server-wev-3  |web-server     |CPUUtlization |10             |ideal should stay below 82 |\n|1/06/2024|17:30:28|EQU-ID-4   |server-app-1  |app-server     |CPUUtlization |10             |ideal should stay below 83 |\n|1/06/2024|17:30:28|EQU-ID-5   |server-app-2  |app-server     |CPUUtlization |10             |ideal should stay below 84 |\n|1/06/2024|17:30:28|EQU-ID-6   |server-app-3  |app-server     |CPUUtlization |10             |ideal should stay below 85 |\n|1/06/2024|17:30:28|EQU-ID-7   |server-app-4  |app-server     |CPUUtlization |10             |ideal should stay below 86 |\n|1/06/2024|17:30:28|EQU-ID-8   |server-app-5  |app-server     |CPUUtlization |10             |ideal should stay below 87 |\n|1/06/2024|17:30:28|EQU-ID-9   |server-app-6  |app-server     |CPUUtlization |10             |ideal should stay below 88 |\n|1/06/2024|17:30:28|EQU-ID-10  |server-DB-1   |database-server|CPUUtlization |10             |ideal should stay below 89 |\n|1/06/2024|17:30:28|EQU-ID-10  |server-DB-1   |database-server|storageused   |10             |HardDisk Size is 500GB     |\n|1/06/2024|17:30:28|EQU-ID-10  |server-DB-1   |database-server|memoryused    |10             |                           |\n|1/06/2024|17:30:28|EQU-ID-11  |server-DB-2   |database-server|CPUUtlization |10             |                           |\n|1/06/2024|17:30:28|EQU-ID-11  |server-DB-2   |database-server|storageused   |10             |HardDisk Size is 500GB     |\n|1/06/2024|17:30:28|EQU-ID-11  |server-DB-2   |database-server|memoryused    |10             |                           |\n|1/06/2024|17:30:28|EQU-ID-12  |server-DB-3   |database-server|CPUUtlization |10             |                           |\n|1/06/2024|17:30:28|EQU-ID-12  |server-DB-3   |database-server|storageused   |10             |HardDisk Size is 500GB     |\n|1/06/2024|17:30:28|EQU-ID-12  |server-DB-3   |database-server|memoryused    |10             |                           |\n|1/06/2024|17:30:28|EQU-ID-13  |Fire-sensor   |SEN            |smokeDectted  |0              |0 for No and  1 for yes    |\n|1/06/2024|17:30:28|EQU-ID-14  |Temp-sensor   |SEN            |temp          |10             |ideal should stay below 20 |\n+---------+--------+-----------+--------------+---------------+--------------+---------------+---------------------------+\nonly showing top 20 rows\n",
					"output_type": "stream"
				}
			]
		},
		{
			"cell_type": "markdown",
			"source": "#### Example : Display 2 rows and full columns contents",
			"metadata": {}
		},
		{
			"cell_type": "code",
			"source": "df.show(2,truncate=False) ",
			"metadata": {
				"trusted": true,
				"tags": []
			},
			"execution_count": 5,
			"outputs": [
				{
					"name": "stdout",
					"text": "+---------+--------+-----------+--------------+--------------+--------------+---------------+---------------------------+\n|date     |time    |euipment id|equipment name|equipment type|attribute name|attribute value|desc                       |\n+---------+--------+-----------+--------------+--------------+--------------+---------------+---------------------------+\n|1/06/2024|17:30:28|EQU-ID-1   |server-web-1  |web-server    |CPUUtlization |10             |ideal should stay below 80 |\n|1/06/2024|17:30:28|EQU-ID-2   |server-web-2  |web-server    |CPUUtlization |10             |ideal should stay below 81 |\n+---------+--------+-----------+--------------+--------------+--------------+---------------+---------------------------+\nonly showing top 2 rows\n",
					"output_type": "stream"
				}
			]
		},
		{
			"cell_type": "markdown",
			"source": "#### Example : How to use pyspark column class for dataframe column selection or creating a subset dataframe",
			"metadata": {}
		},
		{
			"cell_type": "code",
			"source": "# Using DataFrame object (df)\n#df.select(df.date).show()\n#df.select(df[\"time\"]).show()\n\n#Using SQL col() function\n#from pyspark.sql.functions import col\n#df.select(col(\"euipment id\")).show()\n\n#Arthmetic operations on col\n#df.select(df[\"attribute value\"] + 5).show()\n#df.select(df[\"attribute value\"] - 5).show()\n#df.select(df[\"attribute value\"] * 5).show()\n#df.select(df[\"attribute value\"] / 5).show()\n\n#Creating a subset dataframe\n\ndf_subset=df.select(df[\"euipment id\"],df[\"attribute value\"] +15)\ndf_subset.show()\n",
			"metadata": {
				"trusted": true,
				"tags": []
			},
			"execution_count": 12,
			"outputs": [
				{
					"name": "stdout",
					"text": "+-----------+----------------------+\n|euipment id|(attribute value + 15)|\n+-----------+----------------------+\n|   EQU-ID-1|                    25|\n|   EQU-ID-2|                    25|\n|   EQU-ID-3|                    25|\n|   EQU-ID-4|                    25|\n|   EQU-ID-5|                    25|\n|   EQU-ID-6|                    25|\n|   EQU-ID-7|                    25|\n|   EQU-ID-8|                    25|\n|   EQU-ID-9|                    25|\n|  EQU-ID-10|                    25|\n|  EQU-ID-10|                    25|\n|  EQU-ID-10|                    25|\n|  EQU-ID-11|                    25|\n|  EQU-ID-11|                    25|\n|  EQU-ID-11|                    25|\n|  EQU-ID-12|                    25|\n|  EQU-ID-12|                    25|\n|  EQU-ID-12|                    25|\n|  EQU-ID-13|                    15|\n|  EQU-ID-14|                    25|\n+-----------+----------------------+\nonly showing top 20 rows\n",
					"output_type": "stream"
				}
			]
		},
		{
			"cell_type": "markdown",
			"source": "#### Example :How to add new column to spark data frame",
			"metadata": {
				"tags": []
			}
		},
		{
			"cell_type": "code",
			"source": "# Approach - 1 : using withColumn function\n#df=df.withColumn(\"AttributeValue1\", df[\"attribute value\"] * 2)\n#df.show()\n\n# Approach - 2 : using select with alias function.\n#df=df.select(\"*\",  (df[\"AttributeValue1\"] * 2).alias(\"AttributeValue2\"))\n#df.show()\n\n# Approach - 3 : using selectExpr function with as clause.\n#df=df.selectExpr(\"*\", \"AttributeValue1 * 3 as AttributeValue3\")\n#df.show()\n\n# Approach - 4 : Using as clause in SQL statement.\ndf.createOrReplaceTempView(\"temp1\")\ndf=spark.sql(\"select *, AttributeValue1 * 2 as AttributeValue4 from temp1\")\ndf.show(truncate=False)",
			"metadata": {
				"trusted": true,
				"tags": []
			},
			"execution_count": 31,
			"outputs": [
				{
					"name": "stdout",
					"text": "+---------+--------+-----------+--------------+---------------+--------------+---------------+---------------------------+---------------+---------------+---------------+---------------+---------------+---------------+---------------+---------------+\n|date     |time    |euipment id|equipment name|equipment type |attribute name|attribute value|desc                       |AttributeValue1|AttributeValue3|AttributeValue3|AttributeValue3|AttributeValue3|AttributeValue4|AttributeValue4|AttributeValue4|\n+---------+--------+-----------+--------------+---------------+--------------+---------------+---------------------------+---------------+---------------+---------------+---------------+---------------+---------------+---------------+---------------+\n|1/06/2024|17:30:28|EQU-ID-1   |server-web-1  |web-server     |CPUUtlization |10             |ideal should stay below 80 |20             |60             |60             |60             |60             |40             |40             |40             |\n|1/06/2024|17:30:28|EQU-ID-2   |server-web-2  |web-server     |CPUUtlization |10             |ideal should stay below 81 |20             |60             |60             |60             |60             |40             |40             |40             |\n|1/06/2024|17:30:28|EQU-ID-3   |server-wev-3  |web-server     |CPUUtlization |10             |ideal should stay below 82 |20             |60             |60             |60             |60             |40             |40             |40             |\n|1/06/2024|17:30:28|EQU-ID-4   |server-app-1  |app-server     |CPUUtlization |10             |ideal should stay below 83 |20             |60             |60             |60             |60             |40             |40             |40             |\n|1/06/2024|17:30:28|EQU-ID-5   |server-app-2  |app-server     |CPUUtlization |10             |ideal should stay below 84 |20             |60             |60             |60             |60             |40             |40             |40             |\n|1/06/2024|17:30:28|EQU-ID-6   |server-app-3  |app-server     |CPUUtlization |10             |ideal should stay below 85 |20             |60             |60             |60             |60             |40             |40             |40             |\n|1/06/2024|17:30:28|EQU-ID-7   |server-app-4  |app-server     |CPUUtlization |10             |ideal should stay below 86 |20             |60             |60             |60             |60             |40             |40             |40             |\n|1/06/2024|17:30:28|EQU-ID-8   |server-app-5  |app-server     |CPUUtlization |10             |ideal should stay below 87 |20             |60             |60             |60             |60             |40             |40             |40             |\n|1/06/2024|17:30:28|EQU-ID-9   |server-app-6  |app-server     |CPUUtlization |10             |ideal should stay below 88 |20             |60             |60             |60             |60             |40             |40             |40             |\n|1/06/2024|17:30:28|EQU-ID-10  |server-DB-1   |database-server|CPUUtlization |10             |ideal should stay below 89 |20             |60             |60             |60             |60             |40             |40             |40             |\n|1/06/2024|17:30:28|EQU-ID-10  |server-DB-1   |database-server|storageused   |10             |HardDisk Size is 500GB     |20             |60             |60             |60             |60             |40             |40             |40             |\n|1/06/2024|17:30:28|EQU-ID-10  |server-DB-1   |database-server|memoryused    |10             |                           |20             |60             |60             |60             |60             |40             |40             |40             |\n|1/06/2024|17:30:28|EQU-ID-11  |server-DB-2   |database-server|CPUUtlization |10             |                           |20             |60             |60             |60             |60             |40             |40             |40             |\n|1/06/2024|17:30:28|EQU-ID-11  |server-DB-2   |database-server|storageused   |10             |HardDisk Size is 500GB     |20             |60             |60             |60             |60             |40             |40             |40             |\n|1/06/2024|17:30:28|EQU-ID-11  |server-DB-2   |database-server|memoryused    |10             |                           |20             |60             |60             |60             |60             |40             |40             |40             |\n|1/06/2024|17:30:28|EQU-ID-12  |server-DB-3   |database-server|CPUUtlization |10             |                           |20             |60             |60             |60             |60             |40             |40             |40             |\n|1/06/2024|17:30:28|EQU-ID-12  |server-DB-3   |database-server|storageused   |10             |HardDisk Size is 500GB     |20             |60             |60             |60             |60             |40             |40             |40             |\n|1/06/2024|17:30:28|EQU-ID-12  |server-DB-3   |database-server|memoryused    |10             |                           |20             |60             |60             |60             |60             |40             |40             |40             |\n|1/06/2024|17:30:28|EQU-ID-13  |Fire-sensor   |SEN            |smokeDectted  |0              |0 for No and  1 for yes    |0              |0              |0              |0              |0              |0              |0              |0              |\n|1/06/2024|17:30:28|EQU-ID-14  |Temp-sensor   |SEN            |temp          |10             |ideal should stay below 20 |20             |60             |60             |60             |60             |40             |40             |40             |\n+---------+--------+-----------+--------------+---------------+--------------+---------------+---------------------------+---------------+---------------+---------------+---------------+---------------+---------------+---------------+---------------+\nonly showing top 20 rows\n",
					"output_type": "stream"
				}
			]
		},
		{
			"cell_type": "markdown",
			"source": "Test example",
			"metadata": {
				"tags": []
			}
		},
		{
			"cell_type": "code",
			"source": "",
			"metadata": {},
			"execution_count": null,
			"outputs": []
		}
	]
}